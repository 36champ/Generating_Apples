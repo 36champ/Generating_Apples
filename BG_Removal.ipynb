{
 "cells": [
  {
   "cell_type": "code",
   "execution_count": 6,
   "id": "3f843a3d-84ec-478a-a9f3-b3e0ddbb9249",
   "metadata": {},
   "outputs": [],
   "source": [
    "# Importing Required Modules \n",
    "from rembg import remove \n",
    "from PIL import Image \n",
    "\n",
    "for i in range(1, 51):\n",
    "    # Store path of the image in the variable input_path \n",
    "    input_path =  'Apples/Ai/Red Apples/Side Shots/red-apple-ss-' + str(i) + '.jpg'\n",
    "      \n",
    "    # Processing the image \n",
    "    input = Image.open(input_path).convert('RGBA')\n",
    "      \n",
    "    # Removing the background from the given Image \n",
    "    output = remove(input).convert('RGB')\n",
    "    output.save(\"Processed/Ai/\" + str(i) + \".jpg\")\n",
    "    # display(output)"
   ]
  },
  {
   "cell_type": "code",
   "execution_count": 9,
   "id": "fef6b6f7-da8d-4fc9-9285-8930ea1ee1a7",
   "metadata": {},
   "outputs": [],
   "source": [
    "# Importing Required Modules \n",
    "from rembg import remove \n",
    "from PIL import Image \n",
    "\n",
    "for i in range(1, 70):\n",
    "    # Store path of the image in the variable input_path \n",
    "    input_path =  'Apples/Real/Red Apples/Side Shots/red-apple-ss-' + str(i) + '.jpg'\n",
    "      \n",
    "    # Processing the image \n",
    "    input = Image.open(input_path).convert('RGBA')\n",
    "      \n",
    "    # Removing the background from the given Image \n",
    "    output = remove(input).convert('RGB')\n",
    "    output.save(\"Processed/Real/\" + str(i) + \".jpg\")\n",
    "    # display(output)"
   ]
  }
 ],
 "metadata": {
  "kernelspec": {
   "display_name": "Python 3 (ipykernel)",
   "language": "python",
   "name": "python3"
  },
  "language_info": {
   "codemirror_mode": {
    "name": "ipython",
    "version": 3
   },
   "file_extension": ".py",
   "mimetype": "text/x-python",
   "name": "python",
   "nbconvert_exporter": "python",
   "pygments_lexer": "ipython3",
   "version": "3.11.5"
  }
 },
 "nbformat": 4,
 "nbformat_minor": 5
}
